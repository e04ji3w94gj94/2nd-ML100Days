{
 "cells": [
  {
   "cell_type": "markdown",
   "metadata": {},
   "source": [
    "## Work\n",
    "1. 請嘗試將 preproc_x 替換成以每筆資料的 min/max 進行標準化至 -1 ~ 1 間，再進行訓練\n",
    "2. 請嘗試將 mlp 疊更深 (e.g 5~10 層)，進行訓練後觀察 learning curve 的走勢\n",
    "3. (optional) 請改用 GPU 進行訓練 (如果你有 GPU 的話)，比較使用 CPU 與 GPU 的訓練速度"
   ]
  },
  {
   "cell_type": "code",
   "execution_count": 1,
   "metadata": {},
   "outputs": [
    {
     "name": "stdout",
     "output_type": "stream",
     "text": [
      "Sat Aug 10 21:28:43 2019       \r\n",
      "+-----------------------------------------------------------------------------+\r\n",
      "| NVIDIA-SMI 410.48                 Driver Version: 410.48                    |\r\n",
      "|-------------------------------+----------------------+----------------------+\r\n",
      "| GPU  Name        Persistence-M| Bus-Id        Disp.A | Volatile Uncorr. ECC |\r\n",
      "| Fan  Temp  Perf  Pwr:Usage/Cap|         Memory-Usage | GPU-Util  Compute M. |\r\n",
      "|===============================+======================+======================|\r\n",
      "|   0  GeForce GTX 1070    Off  | 00000000:01:00.0  On |                  N/A |\r\n",
      "|  0%   55C    P5    18W / 200W |    350MiB /  8118MiB |      7%      Default |\r\n",
      "+-------------------------------+----------------------+----------------------+\r\n",
      "                                                                               \r\n",
      "+-----------------------------------------------------------------------------+\r\n",
      "| Processes:                                                       GPU Memory |\r\n",
      "|  GPU       PID   Type   Process name                             Usage      |\r\n",
      "|=============================================================================|\r\n",
      "|    0       941      G   /usr/lib/xorg/Xorg                           200MiB |\r\n",
      "|    0      1432      G   cinnamon                                      63MiB |\r\n",
      "|    0      2122      G   ...uest-channel-token=17728206017704458647    83MiB |\r\n",
      "+-----------------------------------------------------------------------------+\r\n"
     ]
    }
   ],
   "source": [
    "## \n",
    "\"\"\"\n",
    "Your code here (optional)\n",
    "確認硬體資源\n",
    "\"\"\"\n",
    "!nvidia-smi"
   ]
  },
  {
   "cell_type": "code",
   "execution_count": 2,
   "metadata": {},
   "outputs": [
    {
     "name": "stderr",
     "output_type": "stream",
     "text": [
      "Using TensorFlow backend.\n"
     ]
    }
   ],
   "source": [
    "import os\n",
    "import keras\n",
    "\n",
    "# 請嘗試設定 GPU：os.environ\n",
    "os.environ[\"CUDA_VISIBLE_DEVICES\"] = \"0\""
   ]
  },
  {
   "cell_type": "code",
   "execution_count": 3,
   "metadata": {},
   "outputs": [],
   "source": [
    "train, test = keras.datasets.cifar10.load_data()"
   ]
  },
  {
   "cell_type": "code",
   "execution_count": 4,
   "metadata": {},
   "outputs": [],
   "source": [
    "## 資料前處理\n",
    "\"\"\"\n",
    "Your code here\n",
    "\"\"\"\n",
    "def preproc_x(x, flatten=True):\n",
    "    x = 2*(((x - x.min()) / (x.max() - x.min()))-0.5)\n",
    "    if flatten:\n",
    "        x = x.reshape((len(x), -1))\n",
    "    return x\n",
    "\n",
    "def preproc_y(y, num_classes=10):\n",
    "    if y.shape[-1] == 1:\n",
    "        y = keras.utils.to_categorical(y, num_classes)\n",
    "    return y "
   ]
  },
  {
   "cell_type": "code",
   "execution_count": 5,
   "metadata": {},
   "outputs": [],
   "source": [
    "x_train, y_train = train\n",
    "x_test, y_test = test\n",
    "\n",
    "# 資料前處理 - X 標準化\n",
    "x_train = preproc_x(x_train)\n",
    "x_test = preproc_x(x_test)\n",
    "\n",
    "# 資料前處理 -Y 轉成 onehot\n",
    "y_train = preproc_y(y_train)\n",
    "y_test = preproc_y(y_test)"
   ]
  },
  {
   "cell_type": "code",
   "execution_count": 6,
   "metadata": {},
   "outputs": [
    {
     "name": "stdout",
     "output_type": "stream",
     "text": [
      "WARNING:tensorflow:From /home/faifaichen/anaconda3/envs/deeplearning-gpu/lib/python3.6/site-packages/tensorflow/python/framework/op_def_library.py:263: colocate_with (from tensorflow.python.framework.ops) is deprecated and will be removed in a future version.\n",
      "Instructions for updating:\n",
      "Colocations handled automatically by placer.\n",
      "_________________________________________________________________\n",
      "Layer (type)                 Output Shape              Param #   \n",
      "=================================================================\n",
      "input_1 (InputLayer)         (None, 3072)              0         \n",
      "_________________________________________________________________\n",
      "hidden_layer1 (Dense)        (None, 512)               1573376   \n",
      "_________________________________________________________________\n",
      "hidden_layer2 (Dense)        (None, 512)               262656    \n",
      "_________________________________________________________________\n",
      "hidden_layer3 (Dense)        (None, 256)               131328    \n",
      "_________________________________________________________________\n",
      "hidden_layer4 (Dense)        (None, 128)               32896     \n",
      "_________________________________________________________________\n",
      "hidden_layer5 (Dense)        (None, 64)                8256      \n",
      "_________________________________________________________________\n",
      "hidden_layer6 (Dense)        (None, 32)                2080      \n",
      "_________________________________________________________________\n",
      "output (Dense)               (None, 10)                330       \n",
      "=================================================================\n",
      "Total params: 2,010,922\n",
      "Trainable params: 2,010,922\n",
      "Non-trainable params: 0\n",
      "_________________________________________________________________\n"
     ]
    }
   ],
   "source": [
    "\"\"\"Code Here\n",
    "建立你的神經網路\n",
    "\"\"\"\n",
    "def build_mlp(input_shape, output_units=10, num_neurons=[512, 512, 256, 128, 64, 32]):\n",
    "    \n",
    "    input_layer = keras.layers.Input(input_shape)\n",
    "    \n",
    "    for i, n_units in enumerate(num_neurons):\n",
    "        if i == 0:\n",
    "            x = keras.layers.Dense(units=n_units, activation=\"relu\", name=\"hidden_layer\"+str(i+1))(input_layer)\n",
    "        else:\n",
    "            x = keras.layers.Dense(units=n_units, activation=\"relu\", name=\"hidden_layer\"+str(i+1))(x)\n",
    "    \n",
    "    out = keras.layers.Dense(units=output_units, activation=\"softmax\", name=\"output\")(x)\n",
    "    \n",
    "    model = keras.models.Model(inputs=[input_layer], outputs=[out])\n",
    "    return model\n",
    "\n",
    "model = build_mlp(input_shape=x_train.shape[1:])\n",
    "model.summary()"
   ]
  },
  {
   "cell_type": "code",
   "execution_count": 7,
   "metadata": {},
   "outputs": [],
   "source": [
    "## 超參數設定\n",
    "LEARNING_RATE = 0.001\n",
    "EPOCHS = 100\n",
    "BATCH_SIZE = 256"
   ]
  },
  {
   "cell_type": "code",
   "execution_count": 8,
   "metadata": {},
   "outputs": [],
   "source": [
    "optimizer = keras.optimizers.Adam(lr=LEARNING_RATE)\n",
    "model.compile(loss=\"categorical_crossentropy\", metrics=[\"accuracy\"], optimizer=optimizer)"
   ]
  },
  {
   "cell_type": "code",
   "execution_count": 9,
   "metadata": {},
   "outputs": [
    {
     "name": "stdout",
     "output_type": "stream",
     "text": [
      "WARNING:tensorflow:From /home/faifaichen/anaconda3/envs/deeplearning-gpu/lib/python3.6/site-packages/tensorflow/python/ops/math_ops.py:3066: to_int32 (from tensorflow.python.ops.math_ops) is deprecated and will be removed in a future version.\n",
      "Instructions for updating:\n",
      "Use tf.cast instead.\n",
      "Train on 50000 samples, validate on 10000 samples\n",
      "Epoch 1/100\n",
      "50000/50000 [==============================] - 4s 78us/step - loss: 1.7323 - acc: 0.3839 - val_loss: 1.5526 - val_acc: 0.4474\n",
      "Epoch 2/100\n",
      "50000/50000 [==============================] - 2s 33us/step - loss: 1.4879 - acc: 0.4758 - val_loss: 1.4603 - val_acc: 0.4888\n",
      "Epoch 3/100\n",
      "50000/50000 [==============================] - 2s 33us/step - loss: 1.3617 - acc: 0.5182 - val_loss: 1.3723 - val_acc: 0.5194\n",
      "Epoch 4/100\n",
      "50000/50000 [==============================] - 2s 34us/step - loss: 1.2636 - acc: 0.5544 - val_loss: 1.4054 - val_acc: 0.5128\n",
      "Epoch 5/100\n",
      "50000/50000 [==============================] - 2s 33us/step - loss: 1.1681 - acc: 0.5875 - val_loss: 1.3798 - val_acc: 0.5216\n",
      "Epoch 6/100\n",
      "50000/50000 [==============================] - 2s 39us/step - loss: 1.0890 - acc: 0.6151 - val_loss: 1.3740 - val_acc: 0.5300\n",
      "Epoch 7/100\n",
      "50000/50000 [==============================] - 2s 43us/step - loss: 1.0123 - acc: 0.6390 - val_loss: 1.3547 - val_acc: 0.5382\n",
      "Epoch 8/100\n",
      "50000/50000 [==============================] - 2s 32us/step - loss: 0.9317 - acc: 0.6699 - val_loss: 1.3970 - val_acc: 0.5406\n",
      "Epoch 9/100\n",
      "50000/50000 [==============================] - 2s 33us/step - loss: 0.8487 - acc: 0.6984 - val_loss: 1.4668 - val_acc: 0.5403\n",
      "Epoch 10/100\n",
      "50000/50000 [==============================] - 2s 32us/step - loss: 0.7721 - acc: 0.7237 - val_loss: 1.4567 - val_acc: 0.5420\n",
      "Epoch 11/100\n",
      "50000/50000 [==============================] - 2s 34us/step - loss: 0.6989 - acc: 0.7491 - val_loss: 1.5343 - val_acc: 0.5465\n",
      "Epoch 12/100\n",
      "50000/50000 [==============================] - 2s 35us/step - loss: 0.6359 - acc: 0.7730 - val_loss: 1.6226 - val_acc: 0.5316\n",
      "Epoch 13/100\n",
      "50000/50000 [==============================] - 2s 35us/step - loss: 0.5724 - acc: 0.7952 - val_loss: 1.6736 - val_acc: 0.5340\n",
      "Epoch 14/100\n",
      "50000/50000 [==============================] - 2s 33us/step - loss: 0.4996 - acc: 0.8231 - val_loss: 1.7773 - val_acc: 0.5450\n",
      "Epoch 15/100\n",
      "50000/50000 [==============================] - 2s 33us/step - loss: 0.4532 - acc: 0.8393 - val_loss: 1.9221 - val_acc: 0.5384\n",
      "Epoch 16/100\n",
      "50000/50000 [==============================] - 2s 32us/step - loss: 0.4121 - acc: 0.8512 - val_loss: 2.0234 - val_acc: 0.5302\n",
      "Epoch 17/100\n",
      "50000/50000 [==============================] - 2s 34us/step - loss: 0.3741 - acc: 0.8676 - val_loss: 2.0854 - val_acc: 0.5354\n",
      "Epoch 18/100\n",
      "50000/50000 [==============================] - 2s 33us/step - loss: 0.3480 - acc: 0.8790 - val_loss: 2.1165 - val_acc: 0.5368\n",
      "Epoch 19/100\n",
      "50000/50000 [==============================] - 2s 33us/step - loss: 0.3121 - acc: 0.8886 - val_loss: 2.3516 - val_acc: 0.5367\n",
      "Epoch 20/100\n",
      "50000/50000 [==============================] - 2s 32us/step - loss: 0.2795 - acc: 0.9018 - val_loss: 2.4541 - val_acc: 0.5275\n",
      "Epoch 21/100\n",
      "50000/50000 [==============================] - 2s 31us/step - loss: 0.2540 - acc: 0.9102 - val_loss: 2.5574 - val_acc: 0.5378\n",
      "Epoch 22/100\n",
      "50000/50000 [==============================] - 2s 32us/step - loss: 0.2490 - acc: 0.9138 - val_loss: 2.5181 - val_acc: 0.5390\n",
      "Epoch 23/100\n",
      "50000/50000 [==============================] - 2s 33us/step - loss: 0.2298 - acc: 0.9216 - val_loss: 2.5610 - val_acc: 0.5296\n",
      "Epoch 24/100\n",
      "50000/50000 [==============================] - 2s 33us/step - loss: 0.2037 - acc: 0.9292 - val_loss: 2.6495 - val_acc: 0.5413\n",
      "Epoch 25/100\n",
      "50000/50000 [==============================] - 2s 35us/step - loss: 0.1981 - acc: 0.9325 - val_loss: 2.7215 - val_acc: 0.5385\n",
      "Epoch 26/100\n",
      "50000/50000 [==============================] - 2s 34us/step - loss: 0.1727 - acc: 0.9411 - val_loss: 2.8169 - val_acc: 0.5357\n",
      "Epoch 27/100\n",
      "50000/50000 [==============================] - 2s 35us/step - loss: 0.1833 - acc: 0.9378 - val_loss: 2.8521 - val_acc: 0.5351\n",
      "Epoch 28/100\n",
      "50000/50000 [==============================] - 2s 33us/step - loss: 0.1672 - acc: 0.9442 - val_loss: 2.9566 - val_acc: 0.5355\n",
      "Epoch 29/100\n",
      "50000/50000 [==============================] - 2s 32us/step - loss: 0.1631 - acc: 0.9460 - val_loss: 2.8783 - val_acc: 0.5389\n",
      "Epoch 30/100\n",
      "50000/50000 [==============================] - 2s 33us/step - loss: 0.1466 - acc: 0.9501 - val_loss: 3.1174 - val_acc: 0.5449\n",
      "Epoch 31/100\n",
      "50000/50000 [==============================] - 2s 33us/step - loss: 0.1636 - acc: 0.9451 - val_loss: 3.0549 - val_acc: 0.5373\n",
      "Epoch 32/100\n",
      "50000/50000 [==============================] - 2s 35us/step - loss: 0.1462 - acc: 0.9499 - val_loss: 2.9408 - val_acc: 0.5384\n",
      "Epoch 33/100\n",
      "50000/50000 [==============================] - 2s 32us/step - loss: 0.1293 - acc: 0.9557 - val_loss: 3.1862 - val_acc: 0.5406\n",
      "Epoch 34/100\n",
      "50000/50000 [==============================] - 2s 32us/step - loss: 0.1333 - acc: 0.9558 - val_loss: 2.9984 - val_acc: 0.5373\n",
      "Epoch 35/100\n",
      "50000/50000 [==============================] - 2s 32us/step - loss: 0.1351 - acc: 0.9546 - val_loss: 3.0023 - val_acc: 0.5343\n",
      "Epoch 36/100\n",
      "50000/50000 [==============================] - 2s 32us/step - loss: 0.1177 - acc: 0.9610 - val_loss: 3.3140 - val_acc: 0.5339\n",
      "Epoch 37/100\n",
      "50000/50000 [==============================] - 2s 32us/step - loss: 0.1224 - acc: 0.9590 - val_loss: 3.2160 - val_acc: 0.5318\n",
      "Epoch 38/100\n",
      "50000/50000 [==============================] - 2s 34us/step - loss: 0.1170 - acc: 0.9611 - val_loss: 3.2211 - val_acc: 0.5326\n",
      "Epoch 39/100\n",
      "50000/50000 [==============================] - 2s 32us/step - loss: 0.1288 - acc: 0.9575 - val_loss: 3.0840 - val_acc: 0.5367\n",
      "Epoch 40/100\n",
      "50000/50000 [==============================] - 2s 33us/step - loss: 0.1136 - acc: 0.9624 - val_loss: 3.2869 - val_acc: 0.5314\n",
      "Epoch 41/100\n",
      "50000/50000 [==============================] - 2s 34us/step - loss: 0.1126 - acc: 0.9629 - val_loss: 3.2554 - val_acc: 0.5352\n",
      "Epoch 42/100\n",
      "50000/50000 [==============================] - 2s 33us/step - loss: 0.0946 - acc: 0.9683 - val_loss: 3.4306 - val_acc: 0.5433\n",
      "Epoch 43/100\n",
      "50000/50000 [==============================] - 2s 35us/step - loss: 0.1155 - acc: 0.9620 - val_loss: 3.2255 - val_acc: 0.5324\n",
      "Epoch 44/100\n",
      "50000/50000 [==============================] - 2s 33us/step - loss: 0.0996 - acc: 0.9674 - val_loss: 3.3399 - val_acc: 0.5387\n",
      "Epoch 45/100\n",
      "50000/50000 [==============================] - 2s 33us/step - loss: 0.1013 - acc: 0.9668 - val_loss: 3.2746 - val_acc: 0.5373\n",
      "Epoch 46/100\n",
      "50000/50000 [==============================] - 2s 36us/step - loss: 0.1041 - acc: 0.9658 - val_loss: 3.3511 - val_acc: 0.5388\n",
      "Epoch 47/100\n",
      "50000/50000 [==============================] - 2s 34us/step - loss: 0.0876 - acc: 0.9712 - val_loss: 3.3931 - val_acc: 0.5405\n",
      "Epoch 48/100\n",
      "50000/50000 [==============================] - 2s 34us/step - loss: 0.0845 - acc: 0.9721 - val_loss: 3.4284 - val_acc: 0.5299\n",
      "Epoch 49/100\n",
      "50000/50000 [==============================] - 2s 32us/step - loss: 0.1166 - acc: 0.9621 - val_loss: 3.1760 - val_acc: 0.5415\n",
      "Epoch 50/100\n",
      "50000/50000 [==============================] - 2s 33us/step - loss: 0.0751 - acc: 0.9761 - val_loss: 3.5334 - val_acc: 0.5420\n",
      "Epoch 51/100\n",
      "50000/50000 [==============================] - 2s 33us/step - loss: 0.0798 - acc: 0.9737 - val_loss: 3.4997 - val_acc: 0.5321\n",
      "Epoch 52/100\n",
      "50000/50000 [==============================] - 2s 32us/step - loss: 0.1078 - acc: 0.9657 - val_loss: 3.3336 - val_acc: 0.5424\n",
      "Epoch 53/100\n",
      "50000/50000 [==============================] - 2s 32us/step - loss: 0.0981 - acc: 0.9680 - val_loss: 3.2945 - val_acc: 0.5359\n",
      "Epoch 54/100\n",
      "50000/50000 [==============================] - 2s 33us/step - loss: 0.0861 - acc: 0.9724 - val_loss: 3.4155 - val_acc: 0.5343\n",
      "Epoch 55/100\n",
      "50000/50000 [==============================] - 2s 32us/step - loss: 0.0745 - acc: 0.9760 - val_loss: 3.4488 - val_acc: 0.5417\n",
      "Epoch 56/100\n",
      "50000/50000 [==============================] - 2s 33us/step - loss: 0.0745 - acc: 0.9754 - val_loss: 3.5087 - val_acc: 0.5347\n",
      "Epoch 57/100\n"
     ]
    },
    {
     "name": "stdout",
     "output_type": "stream",
     "text": [
      "50000/50000 [==============================] - 2s 33us/step - loss: 0.0961 - acc: 0.9698 - val_loss: 3.2719 - val_acc: 0.5362\n",
      "Epoch 58/100\n",
      "50000/50000 [==============================] - 2s 37us/step - loss: 0.0865 - acc: 0.9717 - val_loss: 3.2845 - val_acc: 0.5488\n",
      "Epoch 59/100\n",
      "50000/50000 [==============================] - 2s 35us/step - loss: 0.0725 - acc: 0.9773 - val_loss: 3.4707 - val_acc: 0.5424\n",
      "Epoch 60/100\n",
      "50000/50000 [==============================] - 2s 33us/step - loss: 0.0720 - acc: 0.9771 - val_loss: 3.4778 - val_acc: 0.5398\n",
      "Epoch 61/100\n",
      "50000/50000 [==============================] - 2s 32us/step - loss: 0.0696 - acc: 0.9778 - val_loss: 3.4503 - val_acc: 0.5357\n",
      "Epoch 62/100\n",
      "50000/50000 [==============================] - 2s 33us/step - loss: 0.0833 - acc: 0.9733 - val_loss: 3.3080 - val_acc: 0.5357\n",
      "Epoch 63/100\n",
      "50000/50000 [==============================] - 2s 35us/step - loss: 0.0767 - acc: 0.9763 - val_loss: 3.5210 - val_acc: 0.5322\n",
      "Epoch 64/100\n",
      "50000/50000 [==============================] - 2s 34us/step - loss: 0.0740 - acc: 0.9776 - val_loss: 3.4613 - val_acc: 0.5375\n",
      "Epoch 65/100\n",
      "50000/50000 [==============================] - 2s 34us/step - loss: 0.0716 - acc: 0.9769 - val_loss: 3.6122 - val_acc: 0.5364\n",
      "Epoch 66/100\n",
      "50000/50000 [==============================] - 2s 33us/step - loss: 0.0826 - acc: 0.9747 - val_loss: 3.5313 - val_acc: 0.5406\n",
      "Epoch 67/100\n",
      "50000/50000 [==============================] - 2s 33us/step - loss: 0.0711 - acc: 0.9780 - val_loss: 3.5469 - val_acc: 0.5335\n",
      "Epoch 68/100\n",
      "50000/50000 [==============================] - 2s 33us/step - loss: 0.0718 - acc: 0.9767 - val_loss: 3.5112 - val_acc: 0.5424\n",
      "Epoch 69/100\n",
      "50000/50000 [==============================] - 2s 37us/step - loss: 0.0627 - acc: 0.9804 - val_loss: 3.6012 - val_acc: 0.5317\n",
      "Epoch 70/100\n",
      "50000/50000 [==============================] - 2s 32us/step - loss: 0.0740 - acc: 0.9773 - val_loss: 3.4527 - val_acc: 0.5352\n",
      "Epoch 71/100\n",
      "50000/50000 [==============================] - 2s 33us/step - loss: 0.0790 - acc: 0.9759 - val_loss: 3.4385 - val_acc: 0.5376\n",
      "Epoch 72/100\n",
      "50000/50000 [==============================] - 2s 33us/step - loss: 0.0608 - acc: 0.9808 - val_loss: 3.5320 - val_acc: 0.5402\n",
      "Epoch 73/100\n",
      "50000/50000 [==============================] - 2s 34us/step - loss: 0.0647 - acc: 0.9788 - val_loss: 3.5526 - val_acc: 0.5409\n",
      "Epoch 74/100\n",
      "50000/50000 [==============================] - 2s 33us/step - loss: 0.0582 - acc: 0.9815 - val_loss: 3.6597 - val_acc: 0.5354\n",
      "Epoch 75/100\n",
      "50000/50000 [==============================] - 2s 34us/step - loss: 0.0696 - acc: 0.9777 - val_loss: 3.5249 - val_acc: 0.5331\n",
      "Epoch 76/100\n",
      "50000/50000 [==============================] - 2s 35us/step - loss: 0.0683 - acc: 0.9789 - val_loss: 3.5449 - val_acc: 0.5350\n",
      "Epoch 77/100\n",
      "50000/50000 [==============================] - 2s 36us/step - loss: 0.0605 - acc: 0.9803 - val_loss: 3.4995 - val_acc: 0.5407\n",
      "Epoch 78/100\n",
      "50000/50000 [==============================] - 2s 34us/step - loss: 0.0651 - acc: 0.9793 - val_loss: 3.4659 - val_acc: 0.5377\n",
      "Epoch 79/100\n",
      "50000/50000 [==============================] - 2s 35us/step - loss: 0.0727 - acc: 0.9764 - val_loss: 3.4607 - val_acc: 0.5283\n",
      "Epoch 80/100\n",
      "50000/50000 [==============================] - 2s 36us/step - loss: 0.0469 - acc: 0.9855 - val_loss: 3.6698 - val_acc: 0.5422\n",
      "Epoch 81/100\n",
      "50000/50000 [==============================] - 2s 32us/step - loss: 0.0657 - acc: 0.9800 - val_loss: 3.5934 - val_acc: 0.5383\n",
      "Epoch 82/100\n",
      "50000/50000 [==============================] - 2s 33us/step - loss: 0.0564 - acc: 0.9821 - val_loss: 3.6130 - val_acc: 0.5335\n",
      "Epoch 83/100\n",
      "50000/50000 [==============================] - 2s 35us/step - loss: 0.0783 - acc: 0.9753 - val_loss: 3.4290 - val_acc: 0.5459\n",
      "Epoch 84/100\n",
      "50000/50000 [==============================] - 2s 35us/step - loss: 0.0612 - acc: 0.9801 - val_loss: 3.5724 - val_acc: 0.5416\n",
      "Epoch 85/100\n",
      "50000/50000 [==============================] - 2s 34us/step - loss: 0.0426 - acc: 0.9871 - val_loss: 3.6248 - val_acc: 0.5336\n",
      "Epoch 86/100\n",
      "50000/50000 [==============================] - 2s 33us/step - loss: 0.0602 - acc: 0.9814 - val_loss: 3.5130 - val_acc: 0.5386\n",
      "Epoch 87/100\n",
      "50000/50000 [==============================] - 2s 33us/step - loss: 0.0527 - acc: 0.9830 - val_loss: 3.6484 - val_acc: 0.5347\n",
      "Epoch 88/100\n",
      "50000/50000 [==============================] - 2s 33us/step - loss: 0.0693 - acc: 0.9784 - val_loss: 3.5512 - val_acc: 0.5341\n",
      "Epoch 89/100\n",
      "50000/50000 [==============================] - 2s 35us/step - loss: 0.0552 - acc: 0.9824 - val_loss: 3.5252 - val_acc: 0.5393\n",
      "Epoch 90/100\n",
      "50000/50000 [==============================] - 2s 33us/step - loss: 0.0435 - acc: 0.9865 - val_loss: 3.7695 - val_acc: 0.5461\n",
      "Epoch 91/100\n",
      "50000/50000 [==============================] - 2s 36us/step - loss: 0.0507 - acc: 0.9838 - val_loss: 3.7150 - val_acc: 0.5388\n",
      "Epoch 92/100\n",
      "50000/50000 [==============================] - 2s 42us/step - loss: 0.0497 - acc: 0.9844 - val_loss: 3.7246 - val_acc: 0.5388\n",
      "Epoch 93/100\n",
      "50000/50000 [==============================] - 2s 34us/step - loss: 0.0527 - acc: 0.9839 - val_loss: 3.4194 - val_acc: 0.5400\n",
      "Epoch 94/100\n",
      "50000/50000 [==============================] - 2s 33us/step - loss: 0.0549 - acc: 0.9827 - val_loss: 3.6251 - val_acc: 0.5420\n",
      "Epoch 95/100\n",
      "50000/50000 [==============================] - 2s 34us/step - loss: 0.0581 - acc: 0.9819 - val_loss: 3.5718 - val_acc: 0.5400\n",
      "Epoch 96/100\n",
      "50000/50000 [==============================] - 2s 34us/step - loss: 0.0560 - acc: 0.9822 - val_loss: 3.5777 - val_acc: 0.5413\n",
      "Epoch 97/100\n",
      "50000/50000 [==============================] - 2s 33us/step - loss: 0.0378 - acc: 0.9881 - val_loss: 3.7878 - val_acc: 0.5360\n",
      "Epoch 98/100\n",
      "50000/50000 [==============================] - 2s 33us/step - loss: 0.0479 - acc: 0.9851 - val_loss: 3.6508 - val_acc: 0.5391\n",
      "Epoch 99/100\n",
      "50000/50000 [==============================] - 2s 33us/step - loss: 0.0537 - acc: 0.9835 - val_loss: 3.6449 - val_acc: 0.5390\n",
      "Epoch 100/100\n",
      "50000/50000 [==============================] - 2s 33us/step - loss: 0.0495 - acc: 0.9845 - val_loss: 3.6999 - val_acc: 0.5369\n"
     ]
    },
    {
     "data": {
      "text/plain": [
       "<keras.callbacks.History at 0x7efca58b54a8>"
      ]
     },
     "execution_count": 9,
     "metadata": {},
     "output_type": "execute_result"
    }
   ],
   "source": [
    "model.fit(x_train, y_train, \n",
    "          epochs=EPOCHS, \n",
    "          batch_size=BATCH_SIZE, \n",
    "          validation_data=(x_test, y_test), \n",
    "          shuffle=True)"
   ]
  },
  {
   "cell_type": "code",
   "execution_count": 11,
   "metadata": {},
   "outputs": [
    {
     "data": {
      "image/png": "[encoded data removed]",
      "text/plain": [
       "<Figure size 432x288 with 1 Axes>"
      ]
     },
     "metadata": {
      "needs_background": "light"
     },
     "output_type": "display_data"
    },
    {
     "data": {
      "image/png": "[encoded data removed]",
      "text/plain": [
       "<Figure size 432x288 with 1 Axes>"
      ]
     },
     "metadata": {
      "needs_background": "light"
     },
     "output_type": "display_data"
    }
   ],
   "source": [
    "import matplotlib.pyplot as plt\n",
    "\n",
    "\n",
    "train_loss = model.history.history[\"loss\"]\n",
    "valid_loss = model.history.history[\"val_loss\"]\n",
    "\n",
    "train_acc = model.history.history[\"acc\"]\n",
    "valid_acc = model.history.history[\"val_acc\"]\n",
    "\n",
    "plt.plot(range(len(train_loss)), train_loss, label=\"train loss\")\n",
    "plt.plot(range(len(valid_loss)), valid_loss, label=\"valid loss\")\n",
    "plt.legend()\n",
    "plt.title(\"Loss\")\n",
    "plt.show()\n",
    "\n",
    "plt.plot(range(len(train_acc)), train_acc, label=\"train accuracy\")\n",
    "plt.plot(range(len(valid_acc)), valid_acc, label=\"valid accuracy\")\n",
    "plt.legend()\n",
    "plt.title(\"Accuracy\")\n",
    "plt.show()"
   ]
  },
  {
   "cell_type": "code",
   "execution_count": null,
   "metadata": {},
   "outputs": [],
   "source": []
  }
 ],
 "metadata": {
  "kernelspec": {
   "display_name": "Python 3",
   "language": "python",
   "name": "python3"
  },
  "language_info": {
   "codemirror_mode": {
    "name": "ipython",
    "version": 3
   },
   "file_extension": ".py",
   "mimetype": "text/x-python",
   "name": "python",
   "nbconvert_exporter": "python",
   "pygments_lexer": "ipython3",
   "version": "3.6.8"
  }
 },
 "nbformat": 4,
 "nbformat_minor": 2
}
