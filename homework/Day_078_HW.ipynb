{
 "cells": [
  {
   "cell_type": "markdown",
   "metadata": {},
   "source": [
    "## Work\n",
    "1. 請嘗試將 preproc_x 替換成以每筆資料的 min/max 進行標準化至 -1 ~ 1 間，再進行訓練\n",
    "2. 請嘗試將 mlp 疊更深 (e.g 5~10 層)，進行訓練後觀察 learning curve 的走勢\n",
    "3. (optional) 請改用 GPU 進行訓練 (如果你有 GPU 的話)，比較使用 CPU 與 GPU 的訓練速度"
   ]
  },
  {
   "cell_type": "code",
   "execution_count": 1,
   "metadata": {},
   "outputs": [
    {
     "name": "stdout",
     "output_type": "stream",
     "text": [
      "Fri Jul 19 15:25:06 2019       \r\n",
      "+-----------------------------------------------------------------------------+\r\n",
      "| NVIDIA-SMI 410.48                 Driver Version: 410.48                    |\r\n",
      "|-------------------------------+----------------------+----------------------+\r\n",
      "| GPU  Name        Persistence-M| Bus-Id        Disp.A | Volatile Uncorr. ECC |\r\n",
      "| Fan  Temp  Perf  Pwr:Usage/Cap|         Memory-Usage | GPU-Util  Compute M. |\r\n",
      "|===============================+======================+======================|\r\n",
      "|   0  GeForce GTX 1070    Off  | 00000000:01:00.0  On |                  N/A |\r\n",
      "|  0%   57C    P0    40W / 200W |    461MiB /  8118MiB |      1%      Default |\r\n",
      "+-------------------------------+----------------------+----------------------+\r\n",
      "                                                                               \r\n",
      "+-----------------------------------------------------------------------------+\r\n",
      "| Processes:                                                       GPU Memory |\r\n",
      "|  GPU       PID   Type   Process name                             Usage      |\r\n",
      "|=============================================================================|\r\n",
      "|    0       954      G   /usr/lib/xorg/Xorg                           191MiB |\r\n",
      "|    0      1534      G   cinnamon                                      57MiB |\r\n",
      "|    0      1830      G   ...quest-channel-token=2999627877714681226   173MiB |\r\n",
      "|    0      2998      G   ...-token=626C58FE0DB7A12878CE14B31FAA339D    35MiB |\r\n",
      "+-----------------------------------------------------------------------------+\r\n"
     ]
    }
   ],
   "source": [
    "## \n",
    "\"\"\"\n",
    "Your code here (optional)\n",
    "確認硬體資源\n",
    "\"\"\"\n",
    "!nvidia-smi"
   ]
  },
  {
   "cell_type": "code",
   "execution_count": 2,
   "metadata": {},
   "outputs": [
    {
     "name": "stderr",
     "output_type": "stream",
     "text": [
      "Using TensorFlow backend.\n"
     ]
    }
   ],
   "source": [
    "import os\n",
    "import keras\n",
    "\n",
    "# 請嘗試設定 GPU：os.environ\n",
    "os.environ[\"CUDA_VISIBLE_DEVICES\"] = \"0\""
   ]
  },
  {
   "cell_type": "code",
   "execution_count": 3,
   "metadata": {},
   "outputs": [],
   "source": [
    "train, test = keras.datasets.cifar10.load_data()"
   ]
  },
  {
   "cell_type": "code",
   "execution_count": 4,
   "metadata": {},
   "outputs": [],
   "source": [
    "## 資料前處理\n",
    "\"\"\"\n",
    "Your code here\n",
    "\"\"\"\n",
    "def preproc_x(x, flatten=True):\n",
    "    x = x / 255.-1\n",
    "    if flatten:\n",
    "        x = x.reshape((len(x), -1))\n",
    "    return x\n",
    "\n",
    "def preproc_y(y, num_classes=10):\n",
    "    if y.shape[-1] == 1:\n",
    "        y = keras.utils.to_categorical(y, num_classes)\n",
    "    return y "
   ]
  },
  {
   "cell_type": "code",
   "execution_count": 5,
   "metadata": {},
   "outputs": [],
   "source": [
    "x_train, y_train = train\n",
    "x_test, y_test = test\n",
    "\n",
    "# Preproc the inputs\n",
    "x_train = preproc_x(x_train)\n",
    "x_test = preproc_x(x_test)\n",
    "\n",
    "# Preprc the outputs\n",
    "y_train = preproc_y(y_train)\n",
    "y_test = preproc_y(y_test)"
   ]
  },
  {
   "cell_type": "code",
   "execution_count": 6,
   "metadata": {},
   "outputs": [
    {
     "name": "stdout",
     "output_type": "stream",
     "text": [
      "WARNING:tensorflow:From /home/faifaichen/anaconda3/envs/deeplearning-gpu/lib/python3.6/site-packages/tensorflow/python/framework/op_def_library.py:263: colocate_with (from tensorflow.python.framework.ops) is deprecated and will be removed in a future version.\n",
      "Instructions for updating:\n",
      "Colocations handled automatically by placer.\n",
      "_________________________________________________________________\n",
      "Layer (type)                 Output Shape              Param #   \n",
      "=================================================================\n",
      "input_1 (InputLayer)         (None, 3072)              0         \n",
      "_________________________________________________________________\n",
      "hidden_layer1 (Dense)        (None, 512)               1573376   \n",
      "_________________________________________________________________\n",
      "hidden_layer2 (Dense)        (None, 512)               262656    \n",
      "_________________________________________________________________\n",
      "hidden_layer3 (Dense)        (None, 256)               131328    \n",
      "_________________________________________________________________\n",
      "hidden_layer4 (Dense)        (None, 128)               32896     \n",
      "_________________________________________________________________\n",
      "hidden_layer5 (Dense)        (None, 64)                8256      \n",
      "_________________________________________________________________\n",
      "hidden_layer6 (Dense)        (None, 32)                2080      \n",
      "_________________________________________________________________\n",
      "output (Dense)               (None, 10)                330       \n",
      "=================================================================\n",
      "Total params: 2,010,922\n",
      "Trainable params: 2,010,922\n",
      "Non-trainable params: 0\n",
      "_________________________________________________________________\n"
     ]
    }
   ],
   "source": [
    "\"\"\"Code Here\n",
    "建立你的神經網路\n",
    "\"\"\"\n",
    "def build_mlp(input_shape, output_units=10, num_neurons=[512, 512, 256, 128, 64, 32]):\n",
    "    \n",
    "    input_layer = keras.layers.Input(input_shape)\n",
    "    \n",
    "    for i, n_units in enumerate(num_neurons):\n",
    "        if i == 0:\n",
    "            x = keras.layers.Dense(units=n_units, activation=\"relu\", name=\"hidden_layer\"+str(i+1))(input_layer)\n",
    "        else:\n",
    "            x = keras.layers.Dense(units=n_units, activation=\"relu\", name=\"hidden_layer\"+str(i+1))(x)\n",
    "    \n",
    "    out = keras.layers.Dense(units=output_units, activation=\"softmax\", name=\"output\")(x)\n",
    "    \n",
    "    model = keras.models.Model(inputs=[input_layer], outputs=[out])\n",
    "    return model\n",
    "\n",
    "model = build_mlp(input_shape=x_train.shape[1:])\n",
    "model.summary()"
   ]
  },
  {
   "cell_type": "code",
   "execution_count": 7,
   "metadata": {},
   "outputs": [],
   "source": [
    "## 超參數設定\n",
    "LEARNING_RATE = 0.001\n",
    "EPOCHS = 100\n",
    "BATCH_SIZE = 256"
   ]
  },
  {
   "cell_type": "code",
   "execution_count": 8,
   "metadata": {},
   "outputs": [],
   "source": [
    "optimizer = keras.optimizers.Adam(lr=LEARNING_RATE)\n",
    "model.compile(loss=\"categorical_crossentropy\", metrics=[\"accuracy\"], optimizer=optimizer)"
   ]
  },
  {
   "cell_type": "code",
   "execution_count": 9,
   "metadata": {},
   "outputs": [
    {
     "name": "stdout",
     "output_type": "stream",
     "text": [
      "WARNING:tensorflow:From /home/faifaichen/anaconda3/envs/deeplearning-gpu/lib/python3.6/site-packages/tensorflow/python/ops/math_ops.py:3066: to_int32 (from tensorflow.python.ops.math_ops) is deprecated and will be removed in a future version.\n",
      "Instructions for updating:\n",
      "Use tf.cast instead.\n",
      "Train on 50000 samples, validate on 10000 samples\n",
      "Epoch 1/100\n",
      "50000/50000 [==============================] - 3s 56us/step - loss: 2.0677 - acc: 0.2328 - val_loss: 1.8829 - val_acc: 0.3096\n",
      "Epoch 2/100\n",
      "50000/50000 [==============================] - 2s 33us/step - loss: 1.7995 - acc: 0.3520 - val_loss: 1.7259 - val_acc: 0.3746\n",
      "Epoch 3/100\n",
      "50000/50000 [==============================] - 2s 34us/step - loss: 1.7067 - acc: 0.3870 - val_loss: 1.6677 - val_acc: 0.4029\n",
      "Epoch 4/100\n",
      "50000/50000 [==============================] - 2s 34us/step - loss: 1.6492 - acc: 0.4089 - val_loss: 1.6695 - val_acc: 0.4035\n",
      "Epoch 5/100\n",
      "50000/50000 [==============================] - 2s 34us/step - loss: 1.5981 - acc: 0.4262 - val_loss: 1.5901 - val_acc: 0.4316\n",
      "Epoch 6/100\n",
      "50000/50000 [==============================] - 2s 34us/step - loss: 1.5483 - acc: 0.4462 - val_loss: 1.5263 - val_acc: 0.4577\n",
      "Epoch 7/100\n",
      "50000/50000 [==============================] - 2s 34us/step - loss: 1.5076 - acc: 0.4613 - val_loss: 1.5152 - val_acc: 0.4673\n",
      "Epoch 8/100\n",
      "50000/50000 [==============================] - 2s 34us/step - loss: 1.4793 - acc: 0.4730 - val_loss: 1.5415 - val_acc: 0.4561\n",
      "Epoch 9/100\n",
      "50000/50000 [==============================] - 2s 34us/step - loss: 1.4434 - acc: 0.4856 - val_loss: 1.4498 - val_acc: 0.4885\n",
      "Epoch 10/100\n",
      "50000/50000 [==============================] - 2s 33us/step - loss: 1.4019 - acc: 0.5028 - val_loss: 1.4670 - val_acc: 0.4843\n",
      "Epoch 11/100\n",
      "50000/50000 [==============================] - 2s 32us/step - loss: 1.3852 - acc: 0.5075 - val_loss: 1.4913 - val_acc: 0.4780\n",
      "Epoch 12/100\n",
      "50000/50000 [==============================] - 2s 32us/step - loss: 1.3547 - acc: 0.5194 - val_loss: 1.4691 - val_acc: 0.4768\n",
      "Epoch 13/100\n",
      "50000/50000 [==============================] - 2s 32us/step - loss: 1.3183 - acc: 0.5297 - val_loss: 1.4217 - val_acc: 0.4954\n",
      "Epoch 14/100\n",
      "50000/50000 [==============================] - 2s 32us/step - loss: 1.3068 - acc: 0.5333 - val_loss: 1.4674 - val_acc: 0.4821\n",
      "Epoch 15/100\n",
      "50000/50000 [==============================] - 2s 32us/step - loss: 1.2597 - acc: 0.5501 - val_loss: 1.4117 - val_acc: 0.5001\n",
      "Epoch 16/100\n",
      "50000/50000 [==============================] - 2s 32us/step - loss: 1.2563 - acc: 0.5518 - val_loss: 1.4242 - val_acc: 0.4985\n",
      "Epoch 17/100\n",
      "50000/50000 [==============================] - 2s 32us/step - loss: 1.2216 - acc: 0.5636 - val_loss: 1.4190 - val_acc: 0.4959\n",
      "Epoch 18/100\n",
      "50000/50000 [==============================] - 2s 32us/step - loss: 1.2088 - acc: 0.5671 - val_loss: 1.4166 - val_acc: 0.5088\n",
      "Epoch 19/100\n",
      "50000/50000 [==============================] - 2s 33us/step - loss: 1.1653 - acc: 0.5829 - val_loss: 1.4160 - val_acc: 0.5129\n",
      "Epoch 20/100\n",
      "50000/50000 [==============================] - 2s 32us/step - loss: 1.1411 - acc: 0.5917 - val_loss: 1.4343 - val_acc: 0.4991\n",
      "Epoch 21/100\n",
      "50000/50000 [==============================] - 2s 32us/step - loss: 1.1210 - acc: 0.6003 - val_loss: 1.4344 - val_acc: 0.5066\n",
      "Epoch 22/100\n",
      "50000/50000 [==============================] - 2s 32us/step - loss: 1.0976 - acc: 0.6074 - val_loss: 1.4155 - val_acc: 0.5202\n",
      "Epoch 23/100\n",
      "50000/50000 [==============================] - 2s 32us/step - loss: 1.0647 - acc: 0.6190 - val_loss: 1.4382 - val_acc: 0.5127\n",
      "Epoch 24/100\n",
      "50000/50000 [==============================] - 2s 32us/step - loss: 1.0390 - acc: 0.6264 - val_loss: 1.4374 - val_acc: 0.5217\n",
      "Epoch 25/100\n",
      "50000/50000 [==============================] - 2s 33us/step - loss: 1.0138 - acc: 0.6372 - val_loss: 1.5071 - val_acc: 0.5128\n",
      "Epoch 26/100\n",
      "50000/50000 [==============================] - 2s 33us/step - loss: 0.9984 - acc: 0.6425 - val_loss: 1.4837 - val_acc: 0.5158\n",
      "Epoch 27/100\n",
      "50000/50000 [==============================] - 2s 32us/step - loss: 0.9627 - acc: 0.6556 - val_loss: 1.5029 - val_acc: 0.5161\n",
      "Epoch 28/100\n",
      "50000/50000 [==============================] - 2s 32us/step - loss: 0.9333 - acc: 0.6647 - val_loss: 1.5249 - val_acc: 0.5033\n",
      "Epoch 29/100\n",
      "50000/50000 [==============================] - 2s 32us/step - loss: 0.9174 - acc: 0.6704 - val_loss: 1.5414 - val_acc: 0.5094\n",
      "Epoch 30/100\n",
      "50000/50000 [==============================] - 2s 32us/step - loss: 0.8985 - acc: 0.6771 - val_loss: 1.5880 - val_acc: 0.4977\n",
      "Epoch 31/100\n",
      "50000/50000 [==============================] - 2s 33us/step - loss: 0.8650 - acc: 0.6884 - val_loss: 1.5632 - val_acc: 0.5065\n",
      "Epoch 32/100\n",
      "50000/50000 [==============================] - 2s 33us/step - loss: 0.8427 - acc: 0.6994 - val_loss: 1.6189 - val_acc: 0.5150\n",
      "Epoch 33/100\n",
      "50000/50000 [==============================] - 2s 32us/step - loss: 0.8086 - acc: 0.7093 - val_loss: 1.6307 - val_acc: 0.5117\n",
      "Epoch 34/100\n",
      "50000/50000 [==============================] - 2s 33us/step - loss: 0.7969 - acc: 0.7132 - val_loss: 1.6484 - val_acc: 0.5150\n",
      "Epoch 35/100\n",
      "50000/50000 [==============================] - 2s 34us/step - loss: 0.7674 - acc: 0.7231 - val_loss: 1.7142 - val_acc: 0.5101\n",
      "Epoch 36/100\n",
      "50000/50000 [==============================] - 2s 37us/step - loss: 0.7490 - acc: 0.7293 - val_loss: 1.7478 - val_acc: 0.5066\n",
      "Epoch 37/100\n",
      "50000/50000 [==============================] - 2s 34us/step - loss: 0.7369 - acc: 0.7343 - val_loss: 1.7689 - val_acc: 0.5087\n",
      "Epoch 38/100\n",
      "50000/50000 [==============================] - 2s 33us/step - loss: 0.6979 - acc: 0.7493 - val_loss: 1.8058 - val_acc: 0.5075\n",
      "Epoch 39/100\n",
      "50000/50000 [==============================] - 2s 36us/step - loss: 0.6707 - acc: 0.7587 - val_loss: 1.8647 - val_acc: 0.5063\n",
      "Epoch 40/100\n",
      "50000/50000 [==============================] - 2s 37us/step - loss: 0.6629 - acc: 0.7631 - val_loss: 1.8895 - val_acc: 0.5073\n",
      "Epoch 41/100\n",
      "50000/50000 [==============================] - 2s 36us/step - loss: 0.6450 - acc: 0.7701 - val_loss: 1.8827 - val_acc: 0.5088\n",
      "Epoch 42/100\n",
      "50000/50000 [==============================] - 2s 33us/step - loss: 0.6183 - acc: 0.7782 - val_loss: 2.0082 - val_acc: 0.5124\n",
      "Epoch 43/100\n",
      "50000/50000 [==============================] - 2s 32us/step - loss: 0.5991 - acc: 0.7843 - val_loss: 2.0804 - val_acc: 0.4970\n",
      "Epoch 44/100\n",
      "50000/50000 [==============================] - 2s 36us/step - loss: 0.6101 - acc: 0.7800 - val_loss: 2.0905 - val_acc: 0.5008\n",
      "Epoch 45/100\n",
      "50000/50000 [==============================] - 2s 34us/step - loss: 0.5718 - acc: 0.7952 - val_loss: 2.0648 - val_acc: 0.5047\n",
      "Epoch 46/100\n",
      "50000/50000 [==============================] - 2s 37us/step - loss: 0.5429 - acc: 0.8028 - val_loss: 2.2124 - val_acc: 0.4980\n",
      "Epoch 47/100\n",
      "50000/50000 [==============================] - 2s 35us/step - loss: 0.5294 - acc: 0.8093 - val_loss: 2.1729 - val_acc: 0.5035\n",
      "Epoch 48/100\n",
      "50000/50000 [==============================] - 2s 36us/step - loss: 0.5331 - acc: 0.8090 - val_loss: 2.2792 - val_acc: 0.4973\n",
      "Epoch 49/100\n",
      "50000/50000 [==============================] - 2s 34us/step - loss: 0.5315 - acc: 0.8080 - val_loss: 2.2624 - val_acc: 0.5055\n",
      "Epoch 50/100\n",
      "50000/50000 [==============================] - 2s 35us/step - loss: 0.4921 - acc: 0.8232 - val_loss: 2.3034 - val_acc: 0.5025\n",
      "Epoch 51/100\n",
      "50000/50000 [==============================] - 2s 33us/step - loss: 0.4929 - acc: 0.8222 - val_loss: 2.3104 - val_acc: 0.4955\n",
      "Epoch 52/100\n",
      "50000/50000 [==============================] - 2s 33us/step - loss: 0.4590 - acc: 0.8371 - val_loss: 2.4729 - val_acc: 0.4990\n",
      "Epoch 53/100\n",
      "50000/50000 [==============================] - 2s 34us/step - loss: 0.4568 - acc: 0.8356 - val_loss: 2.4725 - val_acc: 0.4927\n",
      "Epoch 54/100\n",
      "50000/50000 [==============================] - 2s 33us/step - loss: 0.4809 - acc: 0.8278 - val_loss: 2.4350 - val_acc: 0.4965\n",
      "Epoch 55/100\n",
      "50000/50000 [==============================] - 2s 35us/step - loss: 0.4202 - acc: 0.8494 - val_loss: 2.6096 - val_acc: 0.4911\n",
      "Epoch 56/100\n",
      "50000/50000 [==============================] - 2s 32us/step - loss: 0.4344 - acc: 0.8445 - val_loss: 2.5426 - val_acc: 0.4960\n",
      "Epoch 57/100\n"
     ]
    },
    {
     "name": "stdout",
     "output_type": "stream",
     "text": [
      "50000/50000 [==============================] - 2s 32us/step - loss: 0.4166 - acc: 0.8499 - val_loss: 2.5276 - val_acc: 0.4921\n",
      "Epoch 58/100\n",
      "50000/50000 [==============================] - 2s 32us/step - loss: 0.4228 - acc: 0.8478 - val_loss: 2.7328 - val_acc: 0.4954\n",
      "Epoch 59/100\n",
      "50000/50000 [==============================] - 2s 32us/step - loss: 0.3947 - acc: 0.8594 - val_loss: 2.7890 - val_acc: 0.5000\n",
      "Epoch 60/100\n",
      "50000/50000 [==============================] - 2s 32us/step - loss: 0.3882 - acc: 0.8613 - val_loss: 2.6658 - val_acc: 0.4896\n",
      "Epoch 61/100\n",
      "50000/50000 [==============================] - 2s 32us/step - loss: 0.3963 - acc: 0.8571 - val_loss: 2.7671 - val_acc: 0.4864\n",
      "Epoch 62/100\n",
      "50000/50000 [==============================] - 2s 32us/step - loss: 0.3571 - acc: 0.8722 - val_loss: 2.7874 - val_acc: 0.4950\n",
      "Epoch 63/100\n",
      "50000/50000 [==============================] - 2s 32us/step - loss: 0.3709 - acc: 0.8674 - val_loss: 2.8165 - val_acc: 0.4935\n",
      "Epoch 64/100\n",
      "50000/50000 [==============================] - 2s 35us/step - loss: 0.3537 - acc: 0.8727 - val_loss: 2.8478 - val_acc: 0.4897\n",
      "Epoch 65/100\n",
      "50000/50000 [==============================] - 2s 33us/step - loss: 0.3501 - acc: 0.8752 - val_loss: 2.9300 - val_acc: 0.4891\n",
      "Epoch 66/100\n",
      "50000/50000 [==============================] - 2s 33us/step - loss: 0.3477 - acc: 0.8761 - val_loss: 2.9279 - val_acc: 0.4849\n",
      "Epoch 67/100\n",
      "50000/50000 [==============================] - 2s 33us/step - loss: 0.3454 - acc: 0.8758 - val_loss: 3.0095 - val_acc: 0.4940\n",
      "Epoch 68/100\n",
      "50000/50000 [==============================] - 2s 33us/step - loss: 0.3072 - acc: 0.8907 - val_loss: 3.0230 - val_acc: 0.4994\n",
      "Epoch 69/100\n",
      "50000/50000 [==============================] - 2s 33us/step - loss: 0.3409 - acc: 0.8792 - val_loss: 2.9736 - val_acc: 0.4858\n",
      "Epoch 70/100\n",
      "50000/50000 [==============================] - 2s 32us/step - loss: 0.3141 - acc: 0.8876 - val_loss: 3.1691 - val_acc: 0.4841\n",
      "Epoch 71/100\n",
      "50000/50000 [==============================] - 2s 33us/step - loss: 0.3046 - acc: 0.8912 - val_loss: 3.1292 - val_acc: 0.4891\n",
      "Epoch 72/100\n",
      "50000/50000 [==============================] - 2s 35us/step - loss: 0.2939 - acc: 0.8944 - val_loss: 3.1968 - val_acc: 0.4830\n",
      "Epoch 73/100\n",
      "50000/50000 [==============================] - 2s 32us/step - loss: 0.3130 - acc: 0.8910 - val_loss: 3.1335 - val_acc: 0.4937\n",
      "Epoch 74/100\n",
      "50000/50000 [==============================] - 2s 34us/step - loss: 0.2865 - acc: 0.8976 - val_loss: 3.1628 - val_acc: 0.4898\n",
      "Epoch 75/100\n",
      "50000/50000 [==============================] - 2s 35us/step - loss: 0.2876 - acc: 0.8993 - val_loss: 3.2381 - val_acc: 0.4862\n",
      "Epoch 76/100\n",
      "50000/50000 [==============================] - 2s 34us/step - loss: 0.3350 - acc: 0.8824 - val_loss: 3.1102 - val_acc: 0.4880\n",
      "Epoch 77/100\n",
      "50000/50000 [==============================] - 2s 35us/step - loss: 0.2684 - acc: 0.9045 - val_loss: 3.1706 - val_acc: 0.4885\n",
      "Epoch 78/100\n",
      "50000/50000 [==============================] - 2s 33us/step - loss: 0.2680 - acc: 0.9038 - val_loss: 3.2077 - val_acc: 0.4931\n",
      "Epoch 79/100\n",
      "50000/50000 [==============================] - 2s 34us/step - loss: 0.2706 - acc: 0.9051 - val_loss: 3.4161 - val_acc: 0.4860\n",
      "Epoch 80/100\n",
      "50000/50000 [==============================] - 2s 34us/step - loss: 0.2677 - acc: 0.9055 - val_loss: 3.2916 - val_acc: 0.4912\n",
      "Epoch 81/100\n",
      "50000/50000 [==============================] - 2s 32us/step - loss: 0.3149 - acc: 0.8883 - val_loss: 3.2421 - val_acc: 0.4945\n",
      "Epoch 82/100\n",
      "50000/50000 [==============================] - 2s 32us/step - loss: 0.2332 - acc: 0.9182 - val_loss: 3.3684 - val_acc: 0.4912\n",
      "Epoch 83/100\n",
      "50000/50000 [==============================] - 2s 32us/step - loss: 0.2284 - acc: 0.9192 - val_loss: 3.4489 - val_acc: 0.4823\n",
      "Epoch 84/100\n",
      "50000/50000 [==============================] - 2s 32us/step - loss: 0.2574 - acc: 0.9093 - val_loss: 3.4536 - val_acc: 0.4887\n",
      "Epoch 85/100\n",
      "50000/50000 [==============================] - 2s 32us/step - loss: 0.2470 - acc: 0.9126 - val_loss: 3.4260 - val_acc: 0.4768\n",
      "Epoch 86/100\n",
      "50000/50000 [==============================] - 2s 33us/step - loss: 0.2466 - acc: 0.9124 - val_loss: 3.4231 - val_acc: 0.4808\n",
      "Epoch 87/100\n",
      "50000/50000 [==============================] - 2s 34us/step - loss: 0.2562 - acc: 0.9112 - val_loss: 3.4410 - val_acc: 0.4868\n",
      "Epoch 88/100\n",
      "50000/50000 [==============================] - 2s 32us/step - loss: 0.1961 - acc: 0.9319 - val_loss: 3.5738 - val_acc: 0.4864\n",
      "Epoch 89/100\n",
      "50000/50000 [==============================] - 2s 32us/step - loss: 0.2481 - acc: 0.9132 - val_loss: 3.4894 - val_acc: 0.4889\n",
      "Epoch 90/100\n",
      "50000/50000 [==============================] - 2s 33us/step - loss: 0.2282 - acc: 0.9196 - val_loss: 3.5530 - val_acc: 0.4821\n",
      "Epoch 91/100\n",
      "50000/50000 [==============================] - 2s 32us/step - loss: 0.2393 - acc: 0.9176 - val_loss: 3.5269 - val_acc: 0.4870\n",
      "Epoch 92/100\n",
      "50000/50000 [==============================] - 2s 33us/step - loss: 0.2316 - acc: 0.9184 - val_loss: 3.6335 - val_acc: 0.4842\n",
      "Epoch 93/100\n",
      "50000/50000 [==============================] - 2s 32us/step - loss: 0.2228 - acc: 0.9224 - val_loss: 3.5421 - val_acc: 0.4924\n",
      "Epoch 94/100\n",
      "50000/50000 [==============================] - 2s 32us/step - loss: 0.1934 - acc: 0.9325 - val_loss: 3.6932 - val_acc: 0.4789\n",
      "Epoch 95/100\n",
      "50000/50000 [==============================] - 2s 33us/step - loss: 0.2271 - acc: 0.9212 - val_loss: 3.5501 - val_acc: 0.4838\n",
      "Epoch 96/100\n",
      "50000/50000 [==============================] - 2s 33us/step - loss: 0.2326 - acc: 0.9192 - val_loss: 3.5050 - val_acc: 0.4808\n",
      "Epoch 97/100\n",
      "50000/50000 [==============================] - 2s 31us/step - loss: 0.2487 - acc: 0.9146 - val_loss: 3.5840 - val_acc: 0.4879\n",
      "Epoch 98/100\n",
      "50000/50000 [==============================] - 2s 32us/step - loss: 0.2112 - acc: 0.9272 - val_loss: 3.6460 - val_acc: 0.4878\n",
      "Epoch 99/100\n",
      "50000/50000 [==============================] - 2s 32us/step - loss: 0.2265 - acc: 0.9207 - val_loss: 3.5741 - val_acc: 0.4816\n",
      "Epoch 100/100\n",
      "50000/50000 [==============================] - 2s 31us/step - loss: 0.1885 - acc: 0.9342 - val_loss: 3.6815 - val_acc: 0.4793\n"
     ]
    },
    {
     "data": {
      "text/plain": [
       "<keras.callbacks.History at 0x7ff17a6b6c18>"
      ]
     },
     "execution_count": 9,
     "metadata": {},
     "output_type": "execute_result"
    }
   ],
   "source": [
    "model.fit(x_train, y_train, \n",
    "          epochs=EPOCHS, \n",
    "          batch_size=BATCH_SIZE, \n",
    "          validation_data=(x_test, y_test), \n",
    "          shuffle=True)"
   ]
  },
  {
   "cell_type": "code",
   "execution_count": 11,
   "metadata": {},
   "outputs": [
    {
     "data": {
      "image/png": "[encoded data removed]",
      "text/plain": [
       "<Figure size 432x288 with 1 Axes>"
      ]
     },
     "metadata": {
      "needs_background": "light"
     },
     "output_type": "display_data"
    },
    {
     "data": {
      "image/png": "[encoded data removed]",
      "text/plain": [
       "<Figure size 432x288 with 1 Axes>"
      ]
     },
     "metadata": {
      "needs_background": "light"
     },
     "output_type": "display_data"
    }
   ],
   "source": [
    "import matplotlib.pyplot as plt\n",
    "\n",
    "\n",
    "train_loss = model.history.history[\"loss\"]\n",
    "valid_loss = model.history.history[\"val_loss\"]\n",
    "\n",
    "train_acc = model.history.history[\"acc\"]\n",
    "valid_acc = model.history.history[\"val_acc\"]\n",
    "\n",
    "plt.plot(range(len(train_loss)), train_loss, label=\"train loss\")\n",
    "plt.plot(range(len(valid_loss)), valid_loss, label=\"valid loss\")\n",
    "plt.legend()\n",
    "plt.title(\"Loss\")\n",
    "plt.show()\n",
    "\n",
    "plt.plot(range(len(train_acc)), train_acc, label=\"train accuracy\")\n",
    "plt.plot(range(len(valid_acc)), valid_acc, label=\"valid accuracy\")\n",
    "plt.legend()\n",
    "plt.title(\"Accuracy\")\n",
    "plt.show()"
   ]
  },
  {
   "cell_type": "code",
   "execution_count": null,
   "metadata": {},
   "outputs": [],
   "source": []
  }
 ],
 "metadata": {
  "kernelspec": {
   "display_name": "Python 3",
   "language": "python",
   "name": "python3"
  },
  "language_info": {
   "codemirror_mode": {
    "name": "ipython",
    "version": 3
   },
   "file_extension": ".py",
   "mimetype": "text/x-python",
   "name": "python",
   "nbconvert_exporter": "python",
   "pygments_lexer": "ipython3",
   "version": "3.6.8"
  }
 },
 "nbformat": 4,
 "nbformat_minor": 2
}
