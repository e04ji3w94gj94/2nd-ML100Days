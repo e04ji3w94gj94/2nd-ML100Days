{
 "cells": [
  {
   "cell_type": "markdown",
   "metadata": {},
   "source": [
    "## Work\n",
    "1. 試比較 save_best_only 與否的差異\n",
    "2. 請僅存入將 save_weights_only 設定為 True, 並嘗試 reset ipynb 並將模型與權重重新建回並預測 x_test"
   ]
  },
  {
   "cell_type": "code",
   "execution_count": 1,
   "metadata": {},
   "outputs": [
    {
     "name": "stderr",
     "output_type": "stream",
     "text": [
      "Using TensorFlow backend.\n"
     ]
    }
   ],
   "source": [
    "import os\n",
    "import keras\n",
    "\n",
    "\n",
    "os.environ[\"CUDA_VISIBLE_DEVICES\"] = \"0\""
   ]
  },
  {
   "cell_type": "code",
   "execution_count": 2,
   "metadata": {},
   "outputs": [],
   "source": [
    "train, test = keras.datasets.cifar10.load_data()"
   ]
  },
  {
   "cell_type": "code",
   "execution_count": 3,
   "metadata": {},
   "outputs": [],
   "source": [
    "## 資料前處理\n",
    "def preproc_x(x, flatten=True):\n",
    "    x = x / 255.\n",
    "    if flatten:\n",
    "        x = x.reshape((len(x), -1))\n",
    "    return x\n",
    "\n",
    "def preproc_y(y, num_classes=10):\n",
    "    if y.shape[-1] == 1:\n",
    "        y = keras.utils.to_categorical(y, num_classes)\n",
    "    return y    "
   ]
  },
  {
   "cell_type": "code",
   "execution_count": 4,
   "metadata": {},
   "outputs": [],
   "source": [
    "x_train, y_train = train\n",
    "x_test, y_test = test\n",
    "\n",
    "# Preproc the inputs\n",
    "x_train = preproc_x(x_train)\n",
    "x_test = preproc_x(x_test)\n",
    "\n",
    "# Preprc the outputs\n",
    "y_train = preproc_y(y_train)\n",
    "y_test = preproc_y(y_test)"
   ]
  },
  {
   "cell_type": "code",
   "execution_count": 5,
   "metadata": {},
   "outputs": [],
   "source": [
    "from keras.layers import BatchNormalization\n",
    "\n",
    "def build_mlp(input_shape, output_units=10, num_neurons=[512, 256, 128]):\n",
    "    input_layer = keras.layers.Input(input_shape)\n",
    "    \n",
    "    for i, n_units in enumerate(num_neurons):\n",
    "        if i == 0:\n",
    "            x = keras.layers.Dense(units=n_units, \n",
    "                                   activation=\"relu\", \n",
    "                                   name=\"hidden_layer\"+str(i+1))(input_layer)\n",
    "            x = BatchNormalization()(x)\n",
    "        else:\n",
    "            x = keras.layers.Dense(units=n_units, \n",
    "                                   activation=\"relu\", \n",
    "                                   name=\"hidden_layer\"+str(i+1))(x)\n",
    "            x = BatchNormalization()(x)\n",
    "    \n",
    "    out = keras.layers.Dense(units=output_units, activation=\"softmax\", name=\"output\")(x)\n",
    "    \n",
    "    model = keras.models.Model(inputs=[input_layer], outputs=[out])\n",
    "    return model"
   ]
  },
  {
   "cell_type": "code",
   "execution_count": 6,
   "metadata": {},
   "outputs": [],
   "source": [
    "## 超參數設定\n",
    "LEARNING_RATE = 1e-3\n",
    "EPOCHS = 50\n",
    "BATCH_SIZE = 1024\n",
    "MOMENTUM = 0.95"
   ]
  },
  {
   "cell_type": "code",
   "execution_count": 7,
   "metadata": {},
   "outputs": [],
   "source": [
    "# 載入 Callbacks\n",
    "from keras.callbacks import ModelCheckpoint\n",
    "\n",
    "model_ckpt = ModelCheckpoint(filepath=\"./tmp.h5\", \n",
    "                             monitor=\"val_loss\", \n",
    "                             save_best_only=True)"
   ]
  },
  {
   "cell_type": "code",
   "execution_count": 8,
   "metadata": {},
   "outputs": [
    {
     "name": "stdout",
     "output_type": "stream",
     "text": [
      "WARNING:tensorflow:From /home/faifaichen/anaconda3/envs/deeplearning-gpu/lib/python3.6/site-packages/tensorflow/python/framework/op_def_library.py:263: colocate_with (from tensorflow.python.framework.ops) is deprecated and will be removed in a future version.\n",
      "Instructions for updating:\n",
      "Colocations handled automatically by placer.\n",
      "_________________________________________________________________\n",
      "Layer (type)                 Output Shape              Param #   \n",
      "=================================================================\n",
      "input_1 (InputLayer)         (None, 3072)              0         \n",
      "_________________________________________________________________\n",
      "hidden_layer1 (Dense)        (None, 512)               1573376   \n",
      "_________________________________________________________________\n",
      "batch_normalization_1 (Batch (None, 512)               2048      \n",
      "_________________________________________________________________\n",
      "hidden_layer2 (Dense)        (None, 256)               131328    \n",
      "_________________________________________________________________\n",
      "batch_normalization_2 (Batch (None, 256)               1024      \n",
      "_________________________________________________________________\n",
      "hidden_layer3 (Dense)        (None, 128)               32896     \n",
      "_________________________________________________________________\n",
      "batch_normalization_3 (Batch (None, 128)               512       \n",
      "_________________________________________________________________\n",
      "output (Dense)               (None, 10)                1290      \n",
      "=================================================================\n",
      "Total params: 1,742,474\n",
      "Trainable params: 1,740,682\n",
      "Non-trainable params: 1,792\n",
      "_________________________________________________________________\n",
      "WARNING:tensorflow:From /home/faifaichen/anaconda3/envs/deeplearning-gpu/lib/python3.6/site-packages/tensorflow/python/ops/math_ops.py:3066: to_int32 (from tensorflow.python.ops.math_ops) is deprecated and will be removed in a future version.\n",
      "Instructions for updating:\n",
      "Use tf.cast instead.\n",
      "Train on 50000 samples, validate on 10000 samples\n",
      "Epoch 1/50\n",
      "50000/50000 [==============================] - 2s 45us/step - loss: 2.2221 - acc: 0.2692 - val_loss: 2.0952 - val_acc: 0.3349\n",
      "Epoch 2/50\n",
      "50000/50000 [==============================] - 1s 18us/step - loss: 1.7423 - acc: 0.3945 - val_loss: 1.8031 - val_acc: 0.3881\n",
      "Epoch 3/50\n",
      "50000/50000 [==============================] - 1s 17us/step - loss: 1.6196 - acc: 0.4331 - val_loss: 1.7095 - val_acc: 0.4109\n",
      "Epoch 4/50\n",
      "50000/50000 [==============================] - 1s 17us/step - loss: 1.5490 - acc: 0.4584 - val_loss: 1.6258 - val_acc: 0.4282\n",
      "Epoch 5/50\n",
      "50000/50000 [==============================] - 1s 19us/step - loss: 1.4962 - acc: 0.4775 - val_loss: 1.6078 - val_acc: 0.4345\n",
      "Epoch 6/50\n",
      "50000/50000 [==============================] - 1s 18us/step - loss: 1.4517 - acc: 0.4935 - val_loss: 1.6171 - val_acc: 0.4384\n",
      "Epoch 7/50\n",
      "50000/50000 [==============================] - 1s 19us/step - loss: 1.4104 - acc: 0.5082 - val_loss: 1.5548 - val_acc: 0.4536\n",
      "Epoch 8/50\n",
      "50000/50000 [==============================] - 1s 17us/step - loss: 1.3765 - acc: 0.5191 - val_loss: 1.5321 - val_acc: 0.4586\n",
      "Epoch 9/50\n",
      "50000/50000 [==============================] - 1s 19us/step - loss: 1.3420 - acc: 0.5329 - val_loss: 1.5193 - val_acc: 0.4653\n",
      "Epoch 10/50\n",
      "50000/50000 [==============================] - 1s 19us/step - loss: 1.3132 - acc: 0.5443 - val_loss: 1.5046 - val_acc: 0.4706\n",
      "Epoch 11/50\n",
      "50000/50000 [==============================] - 1s 20us/step - loss: 1.2841 - acc: 0.5534 - val_loss: 1.4852 - val_acc: 0.4742\n",
      "Epoch 12/50\n",
      "50000/50000 [==============================] - 1s 19us/step - loss: 1.2575 - acc: 0.5650 - val_loss: 1.4891 - val_acc: 0.4782\n",
      "Epoch 13/50\n",
      "50000/50000 [==============================] - 1s 19us/step - loss: 1.2305 - acc: 0.5745 - val_loss: 1.4799 - val_acc: 0.4764\n",
      "Epoch 14/50\n",
      "50000/50000 [==============================] - 1s 17us/step - loss: 1.2042 - acc: 0.5839 - val_loss: 1.4726 - val_acc: 0.4765\n",
      "Epoch 15/50\n",
      "50000/50000 [==============================] - 1s 17us/step - loss: 1.1819 - acc: 0.5931 - val_loss: 1.4705 - val_acc: 0.4812\n",
      "Epoch 16/50\n",
      "50000/50000 [==============================] - 1s 17us/step - loss: 1.1589 - acc: 0.6010 - val_loss: 1.4791 - val_acc: 0.4805\n",
      "Epoch 17/50\n",
      "50000/50000 [==============================] - 1s 18us/step - loss: 1.1357 - acc: 0.6108 - val_loss: 1.4684 - val_acc: 0.4831\n",
      "Epoch 18/50\n",
      "50000/50000 [==============================] - 1s 18us/step - loss: 1.1132 - acc: 0.6181 - val_loss: 1.4568 - val_acc: 0.4872\n",
      "Epoch 19/50\n",
      "50000/50000 [==============================] - 1s 18us/step - loss: 1.0897 - acc: 0.6287 - val_loss: 1.4690 - val_acc: 0.4851\n",
      "Epoch 20/50\n",
      "50000/50000 [==============================] - 1s 20us/step - loss: 1.0682 - acc: 0.6359 - val_loss: 1.4630 - val_acc: 0.4902\n",
      "Epoch 21/50\n",
      "50000/50000 [==============================] - 1s 21us/step - loss: 1.0474 - acc: 0.6459 - val_loss: 1.4577 - val_acc: 0.4883\n",
      "Epoch 22/50\n",
      "50000/50000 [==============================] - 1s 18us/step - loss: 1.0257 - acc: 0.6525 - val_loss: 1.4555 - val_acc: 0.4916\n",
      "Epoch 23/50\n",
      "50000/50000 [==============================] - 1s 18us/step - loss: 1.0043 - acc: 0.6614 - val_loss: 1.4512 - val_acc: 0.4957\n",
      "Epoch 24/50\n",
      "50000/50000 [==============================] - 1s 19us/step - loss: 0.9824 - acc: 0.6709 - val_loss: 1.4493 - val_acc: 0.4962\n",
      "Epoch 25/50\n",
      "50000/50000 [==============================] - 1s 18us/step - loss: 0.9625 - acc: 0.6779 - val_loss: 1.4606 - val_acc: 0.4949\n",
      "Epoch 26/50\n",
      "50000/50000 [==============================] - 1s 17us/step - loss: 0.9421 - acc: 0.6870 - val_loss: 1.4643 - val_acc: 0.4935\n",
      "Epoch 27/50\n",
      "50000/50000 [==============================] - 1s 19us/step - loss: 0.9230 - acc: 0.6929 - val_loss: 1.4670 - val_acc: 0.4960\n",
      "Epoch 28/50\n",
      "50000/50000 [==============================] - 1s 17us/step - loss: 0.9032 - acc: 0.7018 - val_loss: 1.4785 - val_acc: 0.4884\n",
      "Epoch 29/50\n",
      "50000/50000 [==============================] - 1s 18us/step - loss: 0.8822 - acc: 0.7111 - val_loss: 1.4756 - val_acc: 0.4976\n",
      "Epoch 30/50\n",
      "50000/50000 [==============================] - 1s 20us/step - loss: 0.8634 - acc: 0.7170 - val_loss: 1.4818 - val_acc: 0.4939\n",
      "Epoch 31/50\n",
      "50000/50000 [==============================] - 1s 20us/step - loss: 0.8426 - acc: 0.7259 - val_loss: 1.4845 - val_acc: 0.4955\n",
      "Epoch 32/50\n",
      "50000/50000 [==============================] - 1s 19us/step - loss: 0.8225 - acc: 0.7339 - val_loss: 1.4926 - val_acc: 0.4966\n",
      "Epoch 33/50\n",
      "50000/50000 [==============================] - 1s 17us/step - loss: 0.8041 - acc: 0.7397 - val_loss: 1.5117 - val_acc: 0.4909\n",
      "Epoch 34/50\n",
      "50000/50000 [==============================] - 1s 17us/step - loss: 0.7840 - acc: 0.7478 - val_loss: 1.5026 - val_acc: 0.4939\n",
      "Epoch 35/50\n",
      "50000/50000 [==============================] - 1s 17us/step - loss: 0.7653 - acc: 0.7553 - val_loss: 1.5090 - val_acc: 0.4966\n",
      "Epoch 36/50\n",
      "50000/50000 [==============================] - 1s 17us/step - loss: 0.7472 - acc: 0.7639 - val_loss: 1.5160 - val_acc: 0.4943\n",
      "Epoch 37/50\n",
      "50000/50000 [==============================] - 1s 17us/step - loss: 0.7265 - acc: 0.7699 - val_loss: 1.5443 - val_acc: 0.4871\n",
      "Epoch 38/50\n",
      "50000/50000 [==============================] - 1s 17us/step - loss: 0.7096 - acc: 0.7768 - val_loss: 1.5559 - val_acc: 0.4894\n",
      "Epoch 39/50\n",
      "50000/50000 [==============================] - 1s 17us/step - loss: 0.6898 - acc: 0.7856 - val_loss: 1.5355 - val_acc: 0.4952\n",
      "Epoch 40/50\n",
      "50000/50000 [==============================] - 1s 17us/step - loss: 0.6696 - acc: 0.7932 - val_loss: 1.5641 - val_acc: 0.4902\n",
      "Epoch 41/50\n",
      "50000/50000 [==============================] - 1s 17us/step - loss: 0.6513 - acc: 0.7999 - val_loss: 1.5674 - val_acc: 0.4930\n",
      "Epoch 42/50\n",
      "50000/50000 [==============================] - 1s 17us/step - loss: 0.6330 - acc: 0.8079 - val_loss: 1.5963 - val_acc: 0.4860\n",
      "Epoch 43/50\n",
      "50000/50000 [==============================] - 1s 17us/step - loss: 0.6167 - acc: 0.8133 - val_loss: 1.5968 - val_acc: 0.4893\n",
      "Epoch 44/50\n",
      "50000/50000 [==============================] - 1s 17us/step - loss: 0.5980 - acc: 0.8210 - val_loss: 1.6036 - val_acc: 0.4896\n",
      "Epoch 45/50\n"
     ]
    },
    {
     "name": "stdout",
     "output_type": "stream",
     "text": [
      "50000/50000 [==============================] - 1s 17us/step - loss: 0.5810 - acc: 0.8283 - val_loss: 1.6278 - val_acc: 0.4887\n",
      "Epoch 46/50\n",
      "50000/50000 [==============================] - 1s 17us/step - loss: 0.5637 - acc: 0.8342 - val_loss: 1.6267 - val_acc: 0.4868\n",
      "Epoch 47/50\n",
      "50000/50000 [==============================] - 1s 18us/step - loss: 0.5453 - acc: 0.8434 - val_loss: 1.6398 - val_acc: 0.4861\n",
      "Epoch 48/50\n",
      "50000/50000 [==============================] - 1s 17us/step - loss: 0.5281 - acc: 0.8494 - val_loss: 1.6468 - val_acc: 0.4859\n",
      "Epoch 49/50\n",
      "50000/50000 [==============================] - 1s 17us/step - loss: 0.5136 - acc: 0.8561 - val_loss: 1.6608 - val_acc: 0.4878\n",
      "Epoch 50/50\n",
      "50000/50000 [==============================] - 1s 17us/step - loss: 0.4961 - acc: 0.8622 - val_loss: 1.6893 - val_acc: 0.4867\n"
     ]
    }
   ],
   "source": [
    "model = build_mlp(input_shape=x_train.shape[1:])\n",
    "model.summary()\n",
    "optimizer = keras.optimizers.SGD(lr=LEARNING_RATE, nesterov=True, momentum=MOMENTUM)\n",
    "model.compile(loss=\"categorical_crossentropy\", metrics=[\"accuracy\"], optimizer=optimizer)\n",
    "\n",
    "model.fit(x_train, y_train, \n",
    "          epochs=EPOCHS, \n",
    "          batch_size=BATCH_SIZE, \n",
    "          validation_data=(x_test, y_test), \n",
    "          shuffle=True,\n",
    "          callbacks=[model_ckpt]\n",
    "         )\n",
    "model.save(\"final_model.h5\")\n",
    "model.save_weights(\"model_weights.h5\")\n",
    "# Collect results\n",
    "train_loss = model.history.history[\"loss\"]\n",
    "valid_loss = model.history.history[\"val_loss\"]\n",
    "train_acc = model.history.history[\"acc\"]\n",
    "valid_acc = model.history.history[\"val_acc\"]\n",
    "\n",
    "pred_final = model.predict(x_test)\n",
    "# Load back\n",
    "model = keras.models.load_model(\"./tmp.h5\")\n",
    "pred_loadback = model.predict(x_test)"
   ]
  },
  {
   "cell_type": "code",
   "execution_count": 9,
   "metadata": {
    "scrolled": true
   },
   "outputs": [
    {
     "name": "stdout",
     "output_type": "stream",
     "text": [
      "Accuracy of final weights: 0.487\n",
      "Accuracy of best weights: 0.496\n"
     ]
    }
   ],
   "source": [
    "from sklearn.metrics import accuracy_score\n",
    "\n",
    "final_model_acc = accuracy_score(y_true=y_test.argmax(axis=-1), y_pred=pred_final.argmax(axis=-1))\n",
    "loadback_acc = accuracy_score(y_true=y_test.argmax(axis=-1), y_pred=pred_loadback.argmax(axis=-1))\n",
    "\n",
    "print(\"Accuracy of final weights: %.3f\" % final_model_acc)\n",
    "print(\"Accuracy of best weights: %.3f\" % loadback_acc)"
   ]
  },
  {
   "cell_type": "code",
   "execution_count": 10,
   "metadata": {},
   "outputs": [
    {
     "name": "stdout",
     "output_type": "stream",
     "text": [
      "Accuracy of best weights: 0.100\n",
      "Accuracy of best weights: 0.487\n"
     ]
    }
   ],
   "source": [
    "new_model = build_mlp(input_shape=x_train.shape[1:])\n",
    "new_model_pred = new_model.predict(x_test)\n",
    "new_model_acc = accuracy_score(y_true=y_test.argmax(axis=-1), y_pred=new_model_pred.argmax(axis=-1))\n",
    "print(\"Accuracy of best weights: %.3f\" % new_model_acc)\n",
    "\n",
    "new_model.load_weights(\"./model_weights.h5\")\n",
    "new_model_pred = new_model.predict(x_test)\n",
    "new_model_loadback_acc = accuracy_score(y_true=y_test.argmax(axis=-1), y_pred=new_model_pred.argmax(axis=-1))\n",
    "print(\"Accuracy of best weights: %.3f\" % new_model_loadback_acc)"
   ]
  },
  {
   "cell_type": "code",
   "execution_count": null,
   "metadata": {},
   "outputs": [],
   "source": []
  }
 ],
 "metadata": {
  "kernelspec": {
   "display_name": "Python 3",
   "language": "python",
   "name": "python3"
  },
  "language_info": {
   "codemirror_mode": {
    "name": "ipython",
    "version": 3
   },
   "file_extension": ".py",
   "mimetype": "text/x-python",
   "name": "python",
   "nbconvert_exporter": "python",
   "pygments_lexer": "ipython3",
   "version": "3.6.8"
  }
 },
 "nbformat": 4,
 "nbformat_minor": 2
}
